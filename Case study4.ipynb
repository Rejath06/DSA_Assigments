{
 "cells": [
  {
   "cell_type": "code",
   "execution_count": 27,
   "id": "a4af3398",
   "metadata": {},
   "outputs": [],
   "source": [
    "import  pandas as pd\n",
    "import numpy as np\n",
    "import seaborn as sns\n",
    "import scipy.stats as stats\n",
    "import matplotlib.pyplot as plt"
   ]
  },
  {
   "cell_type": "code",
   "execution_count": 21,
   "id": "3ef28508",
   "metadata": {},
   "outputs": [
    {
     "data": {
      "text/html": [
       "<div>\n",
       "<style scoped>\n",
       "    .dataframe tbody tr th:only-of-type {\n",
       "        vertical-align: middle;\n",
       "    }\n",
       "\n",
       "    .dataframe tbody tr th {\n",
       "        vertical-align: top;\n",
       "    }\n",
       "\n",
       "    .dataframe thead th {\n",
       "        text-align: right;\n",
       "    }\n",
       "</style>\n",
       "<table border=\"1\" class=\"dataframe\">\n",
       "  <thead>\n",
       "    <tr style=\"text-align: right;\">\n",
       "      <th></th>\n",
       "      <th>Month</th>\n",
       "      <th>Region</th>\n",
       "      <th>Manager</th>\n",
       "      <th>Sales_before_digital_add(in $)</th>\n",
       "      <th>Sales_After_digital_add(in $)</th>\n",
       "    </tr>\n",
       "  </thead>\n",
       "  <tbody>\n",
       "    <tr>\n",
       "      <th>0</th>\n",
       "      <td>Month-1</td>\n",
       "      <td>Region - A</td>\n",
       "      <td>Manager - A</td>\n",
       "      <td>132921</td>\n",
       "      <td>270390</td>\n",
       "    </tr>\n",
       "    <tr>\n",
       "      <th>1</th>\n",
       "      <td>Month-2</td>\n",
       "      <td>Region - A</td>\n",
       "      <td>Manager - C</td>\n",
       "      <td>149559</td>\n",
       "      <td>223334</td>\n",
       "    </tr>\n",
       "    <tr>\n",
       "      <th>2</th>\n",
       "      <td>Month-3</td>\n",
       "      <td>Region - B</td>\n",
       "      <td>Manager - A</td>\n",
       "      <td>146278</td>\n",
       "      <td>244243</td>\n",
       "    </tr>\n",
       "    <tr>\n",
       "      <th>3</th>\n",
       "      <td>Month-4</td>\n",
       "      <td>Region - B</td>\n",
       "      <td>Manager - B</td>\n",
       "      <td>152167</td>\n",
       "      <td>231808</td>\n",
       "    </tr>\n",
       "    <tr>\n",
       "      <th>4</th>\n",
       "      <td>Month-5</td>\n",
       "      <td>Region - C</td>\n",
       "      <td>Manager - B</td>\n",
       "      <td>159525</td>\n",
       "      <td>258402</td>\n",
       "    </tr>\n",
       "  </tbody>\n",
       "</table>\n",
       "</div>"
      ],
      "text/plain": [
       "     Month      Region      Manager  Sales_before_digital_add(in $)  \\\n",
       "0  Month-1  Region - A  Manager - A                          132921   \n",
       "1  Month-2  Region - A  Manager - C                          149559   \n",
       "2  Month-3  Region - B  Manager - A                          146278   \n",
       "3  Month-4  Region - B  Manager - B                          152167   \n",
       "4  Month-5  Region - C  Manager - B                          159525   \n",
       "\n",
       "   Sales_After_digital_add(in $)  \n",
       "0                         270390  \n",
       "1                         223334  \n",
       "2                         244243  \n",
       "3                         231808  \n",
       "4                         258402  "
      ]
     },
     "execution_count": 21,
     "metadata": {},
     "output_type": "execute_result"
    }
   ],
   "source": [
    "d = pd.read_csv('Sales_add.csv')\n",
    "d.head()"
   ]
  },
  {
   "cell_type": "code",
   "execution_count": 22,
   "id": "0032dd83",
   "metadata": {},
   "outputs": [
    {
     "name": "stdout",
     "output_type": "stream",
     "text": [
      "<class 'pandas.core.frame.DataFrame'>\n",
      "RangeIndex: 22 entries, 0 to 21\n",
      "Data columns (total 5 columns):\n",
      " #   Column                          Non-Null Count  Dtype \n",
      "---  ------                          --------------  ----- \n",
      " 0   Month                           22 non-null     object\n",
      " 1   Region                          22 non-null     object\n",
      " 2   Manager                         22 non-null     object\n",
      " 3   Sales_before_digital_add(in $)  22 non-null     int64 \n",
      " 4   Sales_After_digital_add(in $)   22 non-null     int64 \n",
      "dtypes: int64(2), object(3)\n",
      "memory usage: 1008.0+ bytes\n"
     ]
    }
   ],
   "source": [
    "d.info()"
   ]
  },
  {
   "cell_type": "code",
   "execution_count": 23,
   "id": "7bc9c20d",
   "metadata": {},
   "outputs": [
    {
     "data": {
      "text/plain": [
       "Month                             0\n",
       "Region                            0\n",
       "Manager                           0\n",
       "Sales_before_digital_add(in $)    0\n",
       "Sales_After_digital_add(in $)     0\n",
       "dtype: int64"
      ]
     },
     "execution_count": 23,
     "metadata": {},
     "output_type": "execute_result"
    }
   ],
   "source": [
    "d.isna().sum()"
   ]
  },
  {
   "cell_type": "markdown",
   "id": "29eed1e8",
   "metadata": {},
   "source": [
    "No null values present in the data"
   ]
  },
  {
   "cell_type": "code",
   "execution_count": 24,
   "id": "3579e135",
   "metadata": {},
   "outputs": [
    {
     "data": {
      "text/html": [
       "<div>\n",
       "<style scoped>\n",
       "    .dataframe tbody tr th:only-of-type {\n",
       "        vertical-align: middle;\n",
       "    }\n",
       "\n",
       "    .dataframe tbody tr th {\n",
       "        vertical-align: top;\n",
       "    }\n",
       "\n",
       "    .dataframe thead th {\n",
       "        text-align: right;\n",
       "    }\n",
       "</style>\n",
       "<table border=\"1\" class=\"dataframe\">\n",
       "  <thead>\n",
       "    <tr style=\"text-align: right;\">\n",
       "      <th></th>\n",
       "      <th>Sales_before_digital_add(in $)</th>\n",
       "      <th>Sales_After_digital_add(in $)</th>\n",
       "    </tr>\n",
       "  </thead>\n",
       "  <tbody>\n",
       "    <tr>\n",
       "      <th>count</th>\n",
       "      <td>22.000000</td>\n",
       "      <td>22.000000</td>\n",
       "    </tr>\n",
       "    <tr>\n",
       "      <th>mean</th>\n",
       "      <td>149239.954545</td>\n",
       "      <td>231123.727273</td>\n",
       "    </tr>\n",
       "    <tr>\n",
       "      <th>std</th>\n",
       "      <td>14844.042921</td>\n",
       "      <td>25556.777061</td>\n",
       "    </tr>\n",
       "    <tr>\n",
       "      <th>min</th>\n",
       "      <td>130263.000000</td>\n",
       "      <td>187305.000000</td>\n",
       "    </tr>\n",
       "    <tr>\n",
       "      <th>25%</th>\n",
       "      <td>138087.750000</td>\n",
       "      <td>214960.750000</td>\n",
       "    </tr>\n",
       "    <tr>\n",
       "      <th>50%</th>\n",
       "      <td>147444.000000</td>\n",
       "      <td>229986.500000</td>\n",
       "    </tr>\n",
       "    <tr>\n",
       "      <th>75%</th>\n",
       "      <td>157627.500000</td>\n",
       "      <td>250909.000000</td>\n",
       "    </tr>\n",
       "    <tr>\n",
       "      <th>max</th>\n",
       "      <td>178939.000000</td>\n",
       "      <td>276279.000000</td>\n",
       "    </tr>\n",
       "  </tbody>\n",
       "</table>\n",
       "</div>"
      ],
      "text/plain": [
       "       Sales_before_digital_add(in $)  Sales_After_digital_add(in $)\n",
       "count                       22.000000                      22.000000\n",
       "mean                    149239.954545                  231123.727273\n",
       "std                      14844.042921                   25556.777061\n",
       "min                     130263.000000                  187305.000000\n",
       "25%                     138087.750000                  214960.750000\n",
       "50%                     147444.000000                  229986.500000\n",
       "75%                     157627.500000                  250909.000000\n",
       "max                     178939.000000                  276279.000000"
      ]
     },
     "execution_count": 24,
     "metadata": {},
     "output_type": "execute_result"
    }
   ],
   "source": [
    "d.describe()"
   ]
  },
  {
   "cell_type": "markdown",
   "id": "3703c3e0",
   "metadata": {},
   "source": [
    "# 1.The company wishes to clarify whether there is any increase in sales after stepping into digital marketing"
   ]
  },
  {
   "cell_type": "markdown",
   "id": "ea465ad2",
   "metadata": {},
   "source": [
    "Here 2 sample T test. n=22(n<30)"
   ]
  },
  {
   "cell_type": "markdown",
   "id": "6a1e9add",
   "metadata": {},
   "source": [
    "We need to assume null hypothesis and alternate hypothesis"
   ]
  },
  {
   "cell_type": "markdown",
   "id": "92e0892f",
   "metadata": {},
   "source": [
    "Null hypothesis:Increase in sales after stepping into digital marketing"
   ]
  },
  {
   "cell_type": "markdown",
   "id": "93267019",
   "metadata": {},
   "source": [
    "Alternate hypothesis: There is no increase in sales after stepping into the digital marketing"
   ]
  },
  {
   "cell_type": "markdown",
   "id": "974f1df9",
   "metadata": {},
   "source": [
    "Assumed significance level is 0.05"
   ]
  },
  {
   "cell_type": "code",
   "execution_count": 25,
   "id": "c8642068",
   "metadata": {},
   "outputs": [],
   "source": [
    "sales_beforedigital = d['Sales_before_digital_add(in $)']\n",
    "sales_afterdigital = d['Sales_After_digital_add(in $)']"
   ]
  },
  {
   "cell_type": "code",
   "execution_count": 28,
   "id": "cfc6f53e",
   "metadata": {},
   "outputs": [],
   "source": [
    "tvalue, pvalue = stats.ttest_ind(sales_beforedigital,sales_afterdigital)"
   ]
  },
  {
   "cell_type": "code",
   "execution_count": 43,
   "id": "8019eb5b",
   "metadata": {},
   "outputs": [
    {
     "data": {
      "text/plain": [
       "3.050566893424036"
      ]
     },
     "execution_count": 43,
     "metadata": {},
     "output_type": "execute_result"
    }
   ],
   "source": [
    "tvalue"
   ]
  },
  {
   "cell_type": "code",
   "execution_count": 44,
   "id": "f83e60a7",
   "metadata": {},
   "outputs": [
    {
     "data": {
      "text/plain": [
       "0.5493991051158094"
      ]
     },
     "execution_count": 44,
     "metadata": {},
     "output_type": "execute_result"
    }
   ],
   "source": [
    "pvalue"
   ]
  },
  {
   "cell_type": "code",
   "execution_count": 29,
   "id": "977ec2bb",
   "metadata": {},
   "outputs": [
    {
     "data": {
      "text/plain": [
       "Ttest_indResult(statistic=-12.995084451110877, pvalue=2.614368006904645e-16)"
      ]
     },
     "execution_count": 29,
     "metadata": {},
     "output_type": "execute_result"
    }
   ],
   "source": [
    "stats.ttest_ind(sales_beforedigital,sales_afterdigital)"
   ]
  },
  {
   "cell_type": "code",
   "execution_count": 30,
   "id": "f51cfdfc",
   "metadata": {},
   "outputs": [
    {
     "data": {
      "text/plain": [
       "1.717144374380242"
      ]
     },
     "execution_count": 30,
     "metadata": {},
     "output_type": "execute_result"
    }
   ],
   "source": [
    "critical_value=stats.t.ppf(1-0.05,22)\n",
    "critical_value"
   ]
  },
  {
   "cell_type": "code",
   "execution_count": 31,
   "id": "45abcc03",
   "metadata": {},
   "outputs": [
    {
     "name": "stdout",
     "output_type": "stream",
     "text": [
      "There is increase in sales after stepping into digital marketing\n"
     ]
    }
   ],
   "source": [
    "if (tvalue>critical_value and pvalue < 0.05):\n",
    "    print('There is no increase in sales after stepping into digital marketing')\n",
    "else:\n",
    "    print('There is increase in sales after stepping into digital marketing')"
   ]
  },
  {
   "cell_type": "markdown",
   "id": "bfb165df",
   "metadata": {},
   "source": [
    "Here we rejected the alternate hypothesis since the p value>0.05"
   ]
  },
  {
   "cell_type": "markdown",
   "id": "941df2d1",
   "metadata": {},
   "source": [
    "# 2.The company needs to check whether there is any dependency between the features “Region” and “Manager”"
   ]
  },
  {
   "cell_type": "markdown",
   "id": "61461520",
   "metadata": {},
   "source": [
    "Null hypothesis: Region and manager are dependent"
   ]
  },
  {
   "cell_type": "markdown",
   "id": "a4abae51",
   "metadata": {},
   "source": [
    "Alternate hypothesis: Region and manager are independent"
   ]
  },
  {
   "cell_type": "code",
   "execution_count": 33,
   "id": "04237f8d",
   "metadata": {},
   "outputs": [
    {
     "data": {
      "text/html": [
       "<div>\n",
       "<style scoped>\n",
       "    .dataframe tbody tr th:only-of-type {\n",
       "        vertical-align: middle;\n",
       "    }\n",
       "\n",
       "    .dataframe tbody tr th {\n",
       "        vertical-align: top;\n",
       "    }\n",
       "\n",
       "    .dataframe thead th {\n",
       "        text-align: right;\n",
       "    }\n",
       "</style>\n",
       "<table border=\"1\" class=\"dataframe\">\n",
       "  <thead>\n",
       "    <tr style=\"text-align: right;\">\n",
       "      <th></th>\n",
       "      <th></th>\n",
       "      <th>Month</th>\n",
       "      <th>Sales_before_digital_add(in $)</th>\n",
       "      <th>Sales_After_digital_add(in $)</th>\n",
       "    </tr>\n",
       "    <tr>\n",
       "      <th>Region</th>\n",
       "      <th>Manager</th>\n",
       "      <th></th>\n",
       "      <th></th>\n",
       "      <th></th>\n",
       "    </tr>\n",
       "  </thead>\n",
       "  <tbody>\n",
       "    <tr>\n",
       "      <th rowspan=\"3\" valign=\"top\">Region - A</th>\n",
       "      <th>Manager - A</th>\n",
       "      <td>4</td>\n",
       "      <td>4</td>\n",
       "      <td>4</td>\n",
       "    </tr>\n",
       "    <tr>\n",
       "      <th>Manager - B</th>\n",
       "      <td>3</td>\n",
       "      <td>3</td>\n",
       "      <td>3</td>\n",
       "    </tr>\n",
       "    <tr>\n",
       "      <th>Manager - C</th>\n",
       "      <td>3</td>\n",
       "      <td>3</td>\n",
       "      <td>3</td>\n",
       "    </tr>\n",
       "    <tr>\n",
       "      <th rowspan=\"3\" valign=\"top\">Region - B</th>\n",
       "      <th>Manager - A</th>\n",
       "      <td>4</td>\n",
       "      <td>4</td>\n",
       "      <td>4</td>\n",
       "    </tr>\n",
       "    <tr>\n",
       "      <th>Manager - B</th>\n",
       "      <td>1</td>\n",
       "      <td>1</td>\n",
       "      <td>1</td>\n",
       "    </tr>\n",
       "    <tr>\n",
       "      <th>Manager - C</th>\n",
       "      <td>2</td>\n",
       "      <td>2</td>\n",
       "      <td>2</td>\n",
       "    </tr>\n",
       "    <tr>\n",
       "      <th rowspan=\"3\" valign=\"top\">Region - C</th>\n",
       "      <th>Manager - A</th>\n",
       "      <td>1</td>\n",
       "      <td>1</td>\n",
       "      <td>1</td>\n",
       "    </tr>\n",
       "    <tr>\n",
       "      <th>Manager - B</th>\n",
       "      <td>3</td>\n",
       "      <td>3</td>\n",
       "      <td>3</td>\n",
       "    </tr>\n",
       "    <tr>\n",
       "      <th>Manager - C</th>\n",
       "      <td>1</td>\n",
       "      <td>1</td>\n",
       "      <td>1</td>\n",
       "    </tr>\n",
       "  </tbody>\n",
       "</table>\n",
       "</div>"
      ],
      "text/plain": [
       "                        Month  Sales_before_digital_add(in $)  \\\n",
       "Region     Manager                                              \n",
       "Region - A Manager - A      4                               4   \n",
       "           Manager - B      3                               3   \n",
       "           Manager - C      3                               3   \n",
       "Region - B Manager - A      4                               4   \n",
       "           Manager - B      1                               1   \n",
       "           Manager - C      2                               2   \n",
       "Region - C Manager - A      1                               1   \n",
       "           Manager - B      3                               3   \n",
       "           Manager - C      1                               1   \n",
       "\n",
       "                        Sales_After_digital_add(in $)  \n",
       "Region     Manager                                     \n",
       "Region - A Manager - A                              4  \n",
       "           Manager - B                              3  \n",
       "           Manager - C                              3  \n",
       "Region - B Manager - A                              4  \n",
       "           Manager - B                              1  \n",
       "           Manager - C                              2  \n",
       "Region - C Manager - A                              1  \n",
       "           Manager - B                              3  \n",
       "           Manager - C                              1  "
      ]
     },
     "execution_count": 33,
     "metadata": {},
     "output_type": "execute_result"
    }
   ],
   "source": [
    "d.groupby(['Region','Manager']).count()"
   ]
  },
  {
   "cell_type": "code",
   "execution_count": 36,
   "id": "b7b4a690",
   "metadata": {},
   "outputs": [
    {
     "data": {
      "text/html": [
       "<div>\n",
       "<style scoped>\n",
       "    .dataframe tbody tr th:only-of-type {\n",
       "        vertical-align: middle;\n",
       "    }\n",
       "\n",
       "    .dataframe tbody tr th {\n",
       "        vertical-align: top;\n",
       "    }\n",
       "\n",
       "    .dataframe thead th {\n",
       "        text-align: right;\n",
       "    }\n",
       "</style>\n",
       "<table border=\"1\" class=\"dataframe\">\n",
       "  <thead>\n",
       "    <tr style=\"text-align: right;\">\n",
       "      <th>Manager</th>\n",
       "      <th>Manager - A</th>\n",
       "      <th>Manager - B</th>\n",
       "      <th>Manager - C</th>\n",
       "    </tr>\n",
       "    <tr>\n",
       "      <th>Region</th>\n",
       "      <th></th>\n",
       "      <th></th>\n",
       "      <th></th>\n",
       "    </tr>\n",
       "  </thead>\n",
       "  <tbody>\n",
       "    <tr>\n",
       "      <th>Region - A</th>\n",
       "      <td>4</td>\n",
       "      <td>3</td>\n",
       "      <td>3</td>\n",
       "    </tr>\n",
       "    <tr>\n",
       "      <th>Region - B</th>\n",
       "      <td>4</td>\n",
       "      <td>1</td>\n",
       "      <td>2</td>\n",
       "    </tr>\n",
       "    <tr>\n",
       "      <th>Region - C</th>\n",
       "      <td>1</td>\n",
       "      <td>3</td>\n",
       "      <td>1</td>\n",
       "    </tr>\n",
       "  </tbody>\n",
       "</table>\n",
       "</div>"
      ],
      "text/plain": [
       "Manager     Manager - A  Manager - B  Manager - C\n",
       "Region                                           \n",
       "Region - A            4            3            3\n",
       "Region - B            4            1            2\n",
       "Region - C            1            3            1"
      ]
     },
     "execution_count": 36,
     "metadata": {},
     "output_type": "execute_result"
    }
   ],
   "source": [
    "c = pd.crosstab(d[\"Region\"], d[\"Manager\"])\n",
    "c"
   ]
  },
  {
   "cell_type": "code",
   "execution_count": 40,
   "id": "5c8aeb15",
   "metadata": {},
   "outputs": [],
   "source": [
    "tvalue,pvalue,deg_f,ar = stats.chi2_contingency(c)"
   ]
  },
  {
   "cell_type": "code",
   "execution_count": 41,
   "id": "b3413a78",
   "metadata": {},
   "outputs": [
    {
     "data": {
      "text/plain": [
       "3.050566893424036"
      ]
     },
     "execution_count": 41,
     "metadata": {},
     "output_type": "execute_result"
    }
   ],
   "source": [
    "tvalue"
   ]
  },
  {
   "cell_type": "code",
   "execution_count": 42,
   "id": "68b70c0a",
   "metadata": {},
   "outputs": [
    {
     "data": {
      "text/plain": [
       "0.5493991051158094"
      ]
     },
     "execution_count": 42,
     "metadata": {},
     "output_type": "execute_result"
    }
   ],
   "source": [
    "pvalue"
   ]
  },
  {
   "cell_type": "code",
   "execution_count": 47,
   "id": "4ab29646",
   "metadata": {},
   "outputs": [],
   "source": [
    "critical_value=stats.chi2.ppf(1-0.05,4)"
   ]
  },
  {
   "cell_type": "code",
   "execution_count": 48,
   "id": "28e8397e",
   "metadata": {},
   "outputs": [
    {
     "data": {
      "text/plain": [
       "9.487729036781154"
      ]
     },
     "execution_count": 48,
     "metadata": {},
     "output_type": "execute_result"
    }
   ],
   "source": [
    "critical_value"
   ]
  },
  {
   "cell_type": "code",
   "execution_count": 51,
   "id": "08310684",
   "metadata": {},
   "outputs": [
    {
     "name": "stdout",
     "output_type": "stream",
     "text": [
      "Region and manager are independent\n"
     ]
    }
   ],
   "source": [
    "if(t_value>critical_value and pvalue<0.05):\n",
    "    print('Region and manager are dependent')\n",
    "else:\n",
    "    print('Region and manager are independent')"
   ]
  }
 ],
 "metadata": {
  "kernelspec": {
   "display_name": "Python 3 (ipykernel)",
   "language": "python",
   "name": "python3"
  },
  "language_info": {
   "codemirror_mode": {
    "name": "ipython",
    "version": 3
   },
   "file_extension": ".py",
   "mimetype": "text/x-python",
   "name": "python",
   "nbconvert_exporter": "python",
   "pygments_lexer": "ipython3",
   "version": "3.9.7"
  }
 },
 "nbformat": 4,
 "nbformat_minor": 5
}
